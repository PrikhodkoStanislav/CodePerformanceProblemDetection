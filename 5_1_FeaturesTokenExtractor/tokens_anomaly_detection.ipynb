{
 "cells": [
  {
   "cell_type": "code",
   "execution_count": 1,
   "metadata": {
    "collapsed": true
   },
   "outputs": [],
   "source": [
    "import os"
   ]
  },
  {
   "cell_type": "code",
   "execution_count": 2,
   "metadata": {
    "collapsed": true
   },
   "outputs": [],
   "source": [
    "#folder = \"C:/cppd/D/CodePerformanceProblemDetection/5_1_FeaturesTokenExtractor/data\"\n",
    "#folder = \"D:/Project/CodePerformanceProblemDetection/5_1_FeaturesTokenExtractor/data\"\n",
    "folder = \"D:/Project/New_Project/Dataset/New_Dataset in folders\"\n",
    "\n",
    "path_log = \"D:/Project/CodePerformanceProblemDetection/5_1_FeaturesTokenExtractor/log.txt\"\n",
    "\n",
    "featuresFileName = \"featuresPSI.tsv\"\n",
    "statisticNumbersFileName = \"statisticsPSI.txt\"\n",
    "\n",
    "snipFolder = \"\"\n",
    "\n",
    "tokens = []\n",
    "\n",
    "token_matrix = []\n",
    "\n",
    "files_list = []"
   ]
  },
  {
   "cell_type": "code",
   "execution_count": 3,
   "metadata": {
    "collapsed": true
   },
   "outputs": [],
   "source": [
    "class Counter(object):\n",
    "    def __init__(self, lines, files, snippets):\n",
    "        self.lines = lines\n",
    "        self.files = files\n",
    "        self.snippets = snippets\n",
    "\n",
    "    def incLine(self):\n",
    "        self.lines = self.lines + 1\n",
    "\n",
    "    def incFile(self):\n",
    "        self.files = self.files + 1\n",
    "\n",
    "    def incSnippets(self):\n",
    "        self.snippets = self.snippets + 1\n",
    "\n",
    "    def getLines(self):\n",
    "        return self.lines\n",
    "\n",
    "    def getFiles(self):\n",
    "        return self.files\n",
    "\n",
    "    def getSnippets(self):\n",
    "        return self.snippets"
   ]
  },
  {
   "cell_type": "code",
   "execution_count": 4,
   "metadata": {
    "collapsed": true
   },
   "outputs": [],
   "source": [
    "def feature_extractor_token():\n",
    "    counter = Counter(0, 0, 0)\n",
    "    for file in os.listdir(folder):\n",
    "        path = os.path.join(folder, file)\n",
    "        #path = folder + \"/\" + file\n",
    "        #path.replace(' ', '_')\n",
    "        if os.path.isfile(path) and path.endswith(\".txt\"):\n",
    "            counter.incFile()\n",
    "            extractTokenList(path, file, snipFolder, counter)\n",
    "        elif os.path.isdir(path):\n",
    "            createSnippetsDir(path, file, snipFolder, counter)\n",
    "    #print(token_matrix)\n",
    "    #print(tokens)\n",
    "    #print(len(tokens))\n",
    "    #print(counter.getFiles())\n",
    "    return"
   ]
  },
  {
   "cell_type": "code",
   "execution_count": 5,
   "metadata": {
    "collapsed": true
   },
   "outputs": [],
   "source": [
    "def createSnippetsDir(folder, repo, snipFolder, counter):\n",
    "    try:\n",
    "        for file in os.listdir(folder):\n",
    "            path = os.path.join(folder, file)\n",
    "            #path = folder + \"/\" + file\n",
    "            #path.replace(' ', '_')\n",
    "            if os.path.isfile(path) and path.endswith(\".txt\"):\n",
    "                counter.incFile()\n",
    "                extractTokenList(path, file, snipFolder, counter)\n",
    "            elif os.path.isdir(path):\n",
    "                createSnippetsDir(path, repo, snipFolder, counter)\n",
    "    except:\n",
    "        print(folder + \"/\" + file)\n",
    "        print()\n",
    "        pass\n",
    "    return"
   ]
  },
  {
   "cell_type": "code",
   "execution_count": 6,
   "metadata": {
    "collapsed": true
   },
   "outputs": [],
   "source": [
    "# from re import compile as _Re\n",
    "\n",
    "# _unicode_chr_splitter = _Re( '(?s)((?:[\\ud800-\\udbff][\\udc00-\\udfff])|.)' ).split\n",
    "\n",
    "# def split_unicode_chrs( text ):\n",
    "#     return [ chr for chr in _unicode_chr_splitter( text ) if chr ]\n",
    "\n",
    "import codecs\n",
    "\n",
    "def extractTokenList(path, file, snipFolder, counter):\n",
    "    #f = open(path, 'r')\n",
    "    f = codecs.open(path, \"r\", \"utf_8_sig\" )\n",
    "    #fileOutput = open(path_log, 'w')\n",
    "    #fileOutput.write(path)\n",
    "    #fileOutput.write(\"\\n\")\n",
    "    #fileOutput.close()\n",
    "    token_types = [line.split(' (')[0] for line in f]\n",
    "    #token_types = [split_unicode_chrs(line)[0] for line in f]\n",
    "    token_matrix.append(token_types)\n",
    "    files_list.append(path)\n",
    "    #print(token_types)\n",
    "    #for t in token_types:\n",
    "    #    if t not in tokens:\n",
    "    #        tokens.append(t)"
   ]
  },
  {
   "cell_type": "code",
   "execution_count": null,
   "metadata": {
    "collapsed": false
   },
   "outputs": [],
   "source": [
    "feature_extractor_token()"
   ]
  },
  {
   "cell_type": "code",
   "execution_count": null,
   "metadata": {
    "collapsed": true
   },
   "outputs": [],
   "source": []
  },
  {
   "cell_type": "code",
   "execution_count": null,
   "metadata": {
    "collapsed": true
   },
   "outputs": [],
   "source": []
  },
  {
   "cell_type": "code",
   "execution_count": null,
   "metadata": {
    "collapsed": true
   },
   "outputs": [],
   "source": []
  },
  {
   "cell_type": "code",
   "execution_count": null,
   "metadata": {
    "collapsed": true
   },
   "outputs": [],
   "source": []
  }
 ],
 "metadata": {
  "kernelspec": {
   "display_name": "Python 3",
   "language": "python",
   "name": "python3"
  },
  "language_info": {
   "codemirror_mode": {
    "name": "ipython",
    "version": 3
   },
   "file_extension": ".py",
   "mimetype": "text/x-python",
   "name": "python",
   "nbconvert_exporter": "python",
   "pygments_lexer": "ipython3",
   "version": "3.4.4"
  }
 },
 "nbformat": 4,
 "nbformat_minor": 0
}

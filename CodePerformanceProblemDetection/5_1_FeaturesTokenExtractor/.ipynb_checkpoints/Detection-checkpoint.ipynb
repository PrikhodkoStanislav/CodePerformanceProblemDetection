{
 "cells": [
  {
   "cell_type": "code",
   "execution_count": 1,
   "metadata": {
    "collapsed": true
   },
   "outputs": [],
   "source": [
    "import pandas as pd\n",
    "\n"
   ]
  },
  {
   "cell_type": "code",
   "execution_count": 4,
   "metadata": {
    "collapsed": true
   },
   "outputs": [],
   "source": [
    "features_path = \"features_token.tsv\"\n",
    "\n",
    "df=pd.read_csv(features_path, header=0, sep='\\t')"
   ]
  },
  {
   "cell_type": "code",
   "execution_count": 5,
   "metadata": {
    "collapsed": false
   },
   "outputs": [
    {
     "name": "stdout",
     "output_type": "stream",
     "text": [
      "    ID                                               Path  ARROW  AT  \\\n",
      "0    1  D:/Project/CodePerformanceProblemDetection/5_1...      0   0   \n",
      "1    2  D:/Project/CodePerformanceProblemDetection/5_1...      0   2   \n",
      "2    3  D:/Project/CodePerformanceProblemDetection/5_1...      0   0   \n",
      "3    4  D:/Project/CodePerformanceProblemDetection/5_1...      0   0   \n",
      "4    5  D:/Project/CodePerformanceProblemDetection/5_1...      0   0   \n",
      "5    6  D:/Project/CodePerformanceProblemDetection/5_1...      1   3   \n",
      "6    7  D:/Project/CodePerformanceProblemDetection/5_1...      0   5   \n",
      "7    8  D:/Project/CodePerformanceProblemDetection/5_1...      0   0   \n",
      "8    9  D:/Project/CodePerformanceProblemDetection/5_1...      0   2   \n",
      "9   10  D:/Project/CodePerformanceProblemDetection/5_1...      0   2   \n",
      "10  11  D:/Project/CodePerformanceProblemDetection/5_1...      0   0   \n",
      "11  12  D:/Project/CodePerformanceProblemDetection/5_1...      0   4   \n",
      "12  13  D:/Project/CodePerformanceProblemDetection/5_1...      0   0   \n",
      "13  14  D:/Project/CodePerformanceProblemDetection/5_1...      1   0   \n",
      "14  15  D:/Project/CodePerformanceProblemDetection/5_1...      0   0   \n",
      "15  16  D:/Project/CodePerformanceProblemDetection/5_1...      0   0   \n",
      "16  17  D:/Project/CodePerformanceProblemDetection/5_1...      0   0   \n",
      "17  18  D:/Project/CodePerformanceProblemDetection/5_1...      0   0   \n",
      "18  19  D:/Project/CodePerformanceProblemDetection/5_1...      0   2   \n",
      "19  20  D:/Project/CodePerformanceProblemDetection/5_1...      0   1   \n",
      "20  21  D:/Project/CodePerformanceProblemDetection/5_1...      0   0   \n",
      "21  22  D:/Project/CodePerformanceProblemDetection/5_1...      0   0   \n",
      "22  23  D:/Project/CodePerformanceProblemDetection/5_1...      1   1   \n",
      "23  24  D:/Project/CodePerformanceProblemDetection/5_1...      0   2   \n",
      "24  25  D:/Project/CodePerformanceProblemDetection/5_1...      0   1   \n",
      "25  26  D:/Project/CodePerformanceProblemDetection/5_1...      0   6   \n",
      "26  27  D:/Project/CodePerformanceProblemDetection/5_1...      0   6   \n",
      "27  28  D:/Project/CodePerformanceProblemDetection/5_1...      0  14   \n",
      "\n",
      "    BLOCK_COMMENT  CLOSING_QUOTE  COLON  COLONCOLON  COMMA  DOT ...   \\\n",
      "0               0              1      0           0      0    0 ...    \n",
      "1               0              1      0           1      1   19 ...    \n",
      "2               0              0      5           0      0   19 ...    \n",
      "3               0              0      1           0      0    8 ...    \n",
      "4               0              0      1           0      0   25 ...    \n",
      "5               1              2      4           0      4   28 ...    \n",
      "6               0              2      5           0      0   32 ...    \n",
      "7               0              9     24           1      2   49 ...    \n",
      "8               0              0      2           2      1   34 ...    \n",
      "9               0              0      4           0      0   15 ...    \n",
      "10              0              0      9           0      6   39 ...    \n",
      "11              0              4      4           0      0   17 ...    \n",
      "12              0             11     24           2      1   78 ...    \n",
      "13              0              1      3           0      1   18 ...    \n",
      "14              0              0      0           0      0   13 ...    \n",
      "15              0              0     21           0      0   15 ...    \n",
      "16              0             13     22           0      3   40 ...    \n",
      "17              0              1      2           0      3   43 ...    \n",
      "18              0              0      3           2      5   57 ...    \n",
      "19              0              1      7           1      6   52 ...    \n",
      "20              0              0     10           0      4   40 ...    \n",
      "21              0              0      3           0      0    6 ...    \n",
      "22              0              4      2           1      3   45 ...    \n",
      "23              0              6     10           0      6   26 ...    \n",
      "24              0              0      0           0      1    7 ...    \n",
      "25              0              6      6           0      0    8 ...    \n",
      "26              0              6      6           0      0    8 ...    \n",
      "27              0             13      7           0      0   21 ...    \n",
      "\n",
      "    interface  null  object  package  return  super  this  true  val  var  \n",
      "0           0     0       0        0       0      0     0     0    0    0  \n",
      "1           0     0       0        1       0      0     0     0    1    0  \n",
      "2           0     0       0        1       0      1     1     0    0    1  \n",
      "3           0     0       0        1       0      0     0     0    0    0  \n",
      "4           0     0       0        1       0      1     2     0    0    0  \n",
      "5           0     1       1        1       0      2     0     2    2    0  \n",
      "6           1     0       0        1       0      0     0     0    0    0  \n",
      "7           0     0       1        1       4      0     0     0    0    1  \n",
      "8           0     0       0        1       0      0     0     0    0    0  \n",
      "9           0     0       0        1       0      0     0     0    0    0  \n",
      "10          0     0       1        1       2      0     0     0    1    0  \n",
      "11          1     0       0        1       0      0     0     0    0    0  \n",
      "12          0     0       1        1       0      0     0     0    2    1  \n",
      "13          0     0       0        1       1      0     0     0    0    0  \n",
      "14          0     0       0        1       0      0     0     0    0    0  \n",
      "15          1     0       0        1       0      0     0     0    0    0  \n",
      "16          0     0       1        1       1      0     0     0    0    0  \n",
      "17          0     0       0        1       0      1     1     0    0    0  \n",
      "18          0     0       0        1       0      1     5     0    0    1  \n",
      "19          0     2       0        1       0      1     4     0    0    2  \n",
      "20          0     0       0        1       1      0     0     0    2    1  \n",
      "21          0     0       0        1       0      0     0     0    1    0  \n",
      "22          0     0       0        1       0      0     2     0    2    0  \n",
      "23          0     0       2        1       0      0     0     2    4    0  \n",
      "24          0     0       0        1       0      0     0     0    0    0  \n",
      "25          0     4       0        1       0      0     0     0    0    6  \n",
      "26          0     3       0        1       0      0     0     0    0    6  \n",
      "27          0     4       0        1       0      0     0     0    0    7  \n",
      "\n",
      "[28 rows x 48 columns]\n"
     ]
    }
   ],
   "source": [
    "print(df)"
   ]
  },
  {
   "cell_type": "code",
   "execution_count": 6,
   "metadata": {
    "collapsed": false
   },
   "outputs": [
    {
     "name": "stdout",
     "output_type": "stream",
     "text": [
      "<class 'pandas.core.frame.DataFrame'>\n",
      "Int64Index: 28 entries, 0 to 27\n",
      "Data columns (total 48 columns):\n",
      "ID                           28 non-null int64\n",
      "Path                         28 non-null object\n",
      "ARROW                        28 non-null int64\n",
      "AT                           28 non-null int64\n",
      "BLOCK_COMMENT                28 non-null int64\n",
      "CLOSING_QUOTE                28 non-null int64\n",
      "COLON                        28 non-null int64\n",
      "COLONCOLON                   28 non-null int64\n",
      "COMMA                        28 non-null int64\n",
      "DOT                          28 non-null int64\n",
      "EOL_COMMENT                  28 non-null int64\n",
      "EQ                           28 non-null int64\n",
      "EQEQ                         28 non-null int64\n",
      "EXCL                         28 non-null int64\n",
      "GT                           28 non-null int64\n",
      "IDENTIFIER                   28 non-null int64\n",
      "INTEGER_LITERAL              28 non-null int64\n",
      "KDoc                         28 non-null int64\n",
      "LBRACE                       28 non-null int64\n",
      "LBRACKET                     28 non-null int64\n",
      "LONG_TEMPLATE_ENTRY_END      28 non-null int64\n",
      "LONG_TEMPLATE_ENTRY_START    28 non-null int64\n",
      "LPAR                         28 non-null int64\n",
      "LT                           28 non-null int64\n",
      "MUL                          28 non-null int64\n",
      "OPEN_QUOTE                   28 non-null int64\n",
      "PLUS                         28 non-null int64\n",
      "QUEST                        28 non-null int64\n",
      "RBRACE                       28 non-null int64\n",
      "RBRACKET                     28 non-null int64\n",
      "REGULAR_STRING_PART          28 non-null int64\n",
      "RPAR                         28 non-null int64\n",
      "WHITE_SPACE                  28 non-null int64\n",
      "class                        28 non-null int64\n",
      "else                         28 non-null int64\n",
      "false                        28 non-null int64\n",
      "fun                          28 non-null int64\n",
      "if                           28 non-null int64\n",
      "interface                    28 non-null int64\n",
      "null                         28 non-null int64\n",
      "object                       28 non-null int64\n",
      "package                      28 non-null int64\n",
      "return                       28 non-null int64\n",
      "super                        28 non-null int64\n",
      "this                         28 non-null int64\n",
      "true                         28 non-null int64\n",
      "val                          28 non-null int64\n",
      "var                          28 non-null int64\n",
      "dtypes: int64(47), object(1)\n",
      "memory usage: 10.7+ KB\n",
      "None\n",
      "              ID      ARROW         AT  BLOCK_COMMENT  CLOSING_QUOTE  \\\n",
      "count  28.000000  28.000000  28.000000      28.000000      28.000000   \n",
      "mean   14.500000   0.107143   1.821429       0.035714       2.892857   \n",
      "std     8.225975   0.314970   3.031362       0.188982       4.121662   \n",
      "min     1.000000   0.000000   0.000000       0.000000       0.000000   \n",
      "25%     7.750000   0.000000   0.000000       0.000000       0.000000   \n",
      "50%    14.500000   0.000000   0.500000       0.000000       1.000000   \n",
      "75%    21.250000   0.000000   2.000000       0.000000       4.500000   \n",
      "max    28.000000   1.000000  14.000000       1.000000      13.000000   \n",
      "\n",
      "           COLON  COLONCOLON      COMMA        DOT  EOL_COMMENT    ...      \\\n",
      "count  28.000000   28.000000  28.000000  28.000000    28.000000    ...       \n",
      "mean    6.607143    0.357143   1.678571  27.214286     1.107143    ...       \n",
      "std     7.314822    0.678467   2.126614  18.491954     3.059161    ...       \n",
      "min     0.000000    0.000000   0.000000   0.000000     0.000000    ...       \n",
      "25%     2.000000    0.000000   0.000000  14.500000     0.000000    ...       \n",
      "50%     4.000000    0.000000   1.000000  23.000000     0.000000    ...       \n",
      "75%     7.500000    0.250000   3.000000  40.000000     0.000000    ...       \n",
      "max    24.000000    2.000000   6.000000  78.000000    11.000000    ...       \n",
      "\n",
      "       interface      null     object    package     return      super  \\\n",
      "count  28.000000  28.00000  28.000000  28.000000  28.000000  28.000000   \n",
      "mean    0.107143   0.50000   0.250000   0.964286   0.321429   0.250000   \n",
      "std     0.314970   1.20185   0.518188   0.188982   0.862965   0.518188   \n",
      "min     0.000000   0.00000   0.000000   0.000000   0.000000   0.000000   \n",
      "25%     0.000000   0.00000   0.000000   1.000000   0.000000   0.000000   \n",
      "50%     0.000000   0.00000   0.000000   1.000000   0.000000   0.000000   \n",
      "75%     0.000000   0.00000   0.000000   1.000000   0.000000   0.000000   \n",
      "max     1.000000   4.00000   2.000000   1.000000   4.000000   2.000000   \n",
      "\n",
      "            this       true        val        var  \n",
      "count  28.000000  28.000000  28.000000  28.000000  \n",
      "mean    0.535714   0.142857   0.535714   0.928571  \n",
      "std     1.261455   0.524531   0.999338   1.980059  \n",
      "min     0.000000   0.000000   0.000000   0.000000  \n",
      "25%     0.000000   0.000000   0.000000   0.000000  \n",
      "50%     0.000000   0.000000   0.000000   0.000000  \n",
      "75%     0.000000   0.000000   1.000000   1.000000  \n",
      "max     5.000000   2.000000   4.000000   7.000000  \n",
      "\n",
      "[8 rows x 47 columns]\n"
     ]
    }
   ],
   "source": [
    "print(df.info())\n",
    "\n",
    "print(df.describe())"
   ]
  },
  {
   "cell_type": "code",
   "execution_count": 9,
   "metadata": {
    "collapsed": false
   },
   "outputs": [
    {
     "name": "stdout",
     "output_type": "stream",
     "text": [
      "(28, 46)\n"
     ]
    }
   ],
   "source": [
    "import numpy as np\n",
    "\n",
    "X = np.array(df.values[:,2:])\n",
    "print(X.shape)\n"
   ]
  },
  {
   "cell_type": "code",
   "execution_count": 11,
   "metadata": {
    "collapsed": false
   },
   "outputs": [
    {
     "name": "stderr",
     "output_type": "stream",
     "text": [
      "C:\\Python\\Miniconda3\\lib\\site-packages\\sklearn\\utils\\validation.py:595: DataConversionWarning: Data with input dtype object was converted to float64 by the scale function.\n",
      "  warnings.warn(msg, DataConversionWarning)\n"
     ]
    }
   ],
   "source": [
    "from sklearn.preprocessing import scale\n",
    "X = scale(X)\n"
   ]
  },
  {
   "cell_type": "code",
   "execution_count": 13,
   "metadata": {
    "collapsed": false
   },
   "outputs": [
    {
     "name": "stdout",
     "output_type": "stream",
     "text": [
      "28\n"
     ]
    }
   ],
   "source": [
    "num = X.shape[0]\n",
    "\n",
    "print(num)"
   ]
  },
  {
   "cell_type": "code",
   "execution_count": 14,
   "metadata": {
    "collapsed": true
   },
   "outputs": [],
   "source": [
    "from sklearn.neighbors import LocalOutlierFactor"
   ]
  },
  {
   "cell_type": "code",
   "execution_count": 15,
   "metadata": {
    "collapsed": true
   },
   "outputs": [],
   "source": [
    "clf = LocalOutlierFactor(n_neighbors=20, algorithm='auto', contamination=0.0001, n_jobs=-1)"
   ]
  },
  {
   "cell_type": "code",
   "execution_count": 17,
   "metadata": {
    "collapsed": false
   },
   "outputs": [],
   "source": [
    "import time"
   ]
  },
  {
   "cell_type": "code",
   "execution_count": null,
   "metadata": {
    "collapsed": true
   },
   "outputs": [],
   "source": [
    "def parse_timediff(timediff):\n",
    "    h = timediff // 3600\n",
    "    m = timediff % 3600 // 60\n",
    "    s = timediff % 60\n",
    "    return h, m, s"
   ]
  },
  {
   "cell_type": "code",
   "execution_count": null,
   "metadata": {
    "collapsed": false
   },
   "outputs": [],
   "source": [
    "local_start = time.time()\n",
    "\n",
    "marks = clf.fit_predict(X)\n",
    "\n",
    "hours, minutes, seconds = parse_timediff(time.time() - local_start)\n",
    "\n",
    "print(hours)"
   ]
  },
  {
   "cell_type": "code",
   "execution_count": null,
   "metadata": {
    "collapsed": true
   },
   "outputs": [],
   "source": [
    "print(minutes)\n",
    "print(seconds)"
   ]
  },
  {
   "cell_type": "code",
   "execution_count": null,
   "metadata": {
    "collapsed": true
   },
   "outputs": [],
   "source": [
    "neg_lof = np.array(clf.negative_outlier_factor)"
   ]
  },
  {
   "cell_type": "code",
   "execution_count": 20,
   "metadata": {
    "collapsed": false
   },
   "outputs": [
    {
     "ename": "NameError",
     "evalue": "name 'neg_lof' is not defined",
     "output_type": "error",
     "traceback": [
      "\u001b[1;31m---------------------------------------------------------------------------\u001b[0m",
      "\u001b[1;31mNameError\u001b[0m                                 Traceback (most recent call last)",
      "\u001b[1;32m<ipython-input-20-652786996ee7>\u001b[0m in \u001b[0;36m<module>\u001b[1;34m()\u001b[0m\n\u001b[1;32m----> 1\u001b[1;33m \u001b[0mneg_lof\u001b[0m\u001b[1;33m.\u001b[0m\u001b[0mshape\u001b[0m\u001b[1;33m\u001b[0m\u001b[0m\n\u001b[0m",
      "\u001b[1;31mNameError\u001b[0m: name 'neg_lof' is not defined"
     ]
    }
   ],
   "source": [
    "neg_lof.shape"
   ]
  },
  {
   "cell_type": "code",
   "execution_count": null,
   "metadata": {
    "collapsed": true
   },
   "outputs": [],
   "source": [
    "marks = neg_lof.copy()\n",
    "threshold = 0.01\n",
    "marks[neg_lof <= np.percentile(neg_lof, threshold)] = -1\n",
    "marks[neg_lof > np.percentile(neg_lof, threshold)] = 1"
   ]
  },
  {
   "cell_type": "code",
   "execution_count": null,
   "metadata": {
    "collapsed": true
   },
   "outputs": [],
   "source": [
    "outlier_indicates = np.asarray([mark < 0 for mark in marks])\n",
    "\n",
    "outliers = df[outlier_indicates]\n",
    "n_outliers = outliers.shape[0]\n",
    "n_df = df.shape[0]"
   ]
  },
  {
   "cell_type": "code",
   "execution_count": null,
   "metadata": {
    "collapsed": true
   },
   "outputs": [],
   "source": [
    "print(outliers)"
   ]
  },
  {
   "cell_type": "code",
   "execution_count": null,
   "metadata": {
    "collapsed": true
   },
   "outputs": [],
   "source": []
  },
  {
   "cell_type": "code",
   "execution_count": null,
   "metadata": {
    "collapsed": true
   },
   "outputs": [],
   "source": []
  }
 ],
 "metadata": {
  "kernelspec": {
   "display_name": "Python 3",
   "language": "python",
   "name": "python3"
  },
  "language_info": {
   "codemirror_mode": {
    "name": "ipython",
    "version": 3
   },
   "file_extension": ".py",
   "mimetype": "text/x-python",
   "name": "python",
   "nbconvert_exporter": "python",
   "pygments_lexer": "ipython3",
   "version": "3.4.4"
  }
 },
 "nbformat": 4,
 "nbformat_minor": 0
}
